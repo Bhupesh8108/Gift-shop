{
 "cells": [
  {
   "cell_type": "code",
   "execution_count": 179,
   "metadata": {},
   "outputs": [],
   "source": [
    "import phonenumbers\n",
    "import email.parser\n",
    "from selenium import webdriver\n",
    "import re\n",
    "import pandas as pd\n",
    "\n",
    "def extract_contacts(urls):\n",
    "    data = pd.read_excel('/home/kali/Desktop/ab.xlsx')\n",
    "    for url in urls:\n",
    "        driver = webdriver.Chrome()\n",
    "        driver.get(url)\n",
    "        text = driver.page_source\n",
    "        phone_numbers = []\n",
    "        emails = []\n",
    "\n",
    "        # Extract phone numbers\n",
    "        for match in phonenumbers.PhoneNumberMatcher(text, \"en\"):\n",
    "            phone_numbers.append(phonenumbers.format_number(match.number, phonenumbers.PhoneNumberFormat.E164))\n",
    "            \n",
    "        # Extract email addresses\n",
    "        parser = email.parser.Parser()\n",
    "        email_message = parser.parsestr(text)\n",
    "        for part in email_message.walk():\n",
    "            if part.get_content_type() == \"text/plain\":\n",
    "                email_addresses = re.findall(r'\\b[A-Za-z0-9._%+-]+@[A-Za-z0-9.-]+\\.[A-Za-z]{2,}\\b', part.get_payload())\n",
    "                emails.extend(email_addresses) \n",
    "        emails =list(set(emails))\n",
    "        phone_numbers=list(set(phone_numbers))\n",
    "        row = len(data)\n",
    "        data.at[row,'website'] = url\n",
    "        for i in range(len(emails)):\n",
    "            data.at[row,f'email{i+1}'] = emails[i]\n",
    "        for j in range(len(phone_numbers)):\n",
    "            data.at[row,f'phone{j+1}'] = phone_numbers[j]\n",
    "        data.to_excel('/home/kali/Desktop/ab.xlsx',index=False)\n",
    "extract_contacts(['https://999.md/ru/category/children-world','https://999.md/ru/category/business'])\n"
   ]
  },
  {
   "cell_type": "code",
   "execution_count": 16,
   "metadata": {},
   "outputs": [
    {
     "name": "stdout",
     "output_type": "stream",
     "text": [
      "-80\n",
      "appended\n",
      "appended\n",
      "appended\n",
      "appended\n",
      "appended\n",
      "appended\n",
      "appended\n",
      "appended\n",
      "appended\n",
      "appended\n",
      "appended\n",
      "appended\n",
      "appended\n",
      "appended\n",
      "appended\n",
      "appended\n",
      "appended\n",
      "appended\n",
      "appended\n",
      "appended\n",
      "appended\n",
      "appended\n",
      "appended\n",
      "appended\n",
      "appended\n",
      "appended\n",
      "appended\n",
      "appended\n",
      "appended\n",
      "appended\n",
      "appended\n",
      "appended\n",
      "appended\n",
      "appended\n",
      "appended\n",
      "appended\n",
      "appended\n",
      "appended\n",
      "appended\n",
      "appended\n",
      "appended\n",
      "appended\n",
      "appended\n",
      "appended\n",
      "appended\n",
      "appended\n",
      "appended\n",
      "appended\n",
      "appended\n",
      "appended\n",
      "appended\n",
      "appended\n",
      "appended\n",
      "appended\n",
      "appended\n",
      "appended\n",
      "appended\n",
      "appended\n",
      "appended\n",
      "appended\n",
      "appended\n",
      "appended\n",
      "appended\n",
      "appended\n",
      "appended\n",
      "appended\n",
      "appended\n",
      "appended\n",
      "appended\n",
      "appended\n",
      "appended\n",
      "appended\n",
      "appended\n",
      "appended\n",
      "appended\n",
      "appended\n",
      "appended\n",
      "appended\n",
      "appended\n",
      "appended\n",
      "['+37322581150', '+37369254092', '+37322202333', '+37368064928', '+37379402159', '+37368611444', '+37326921556', '+37378508326', '+37360733337', '+37369111973', '+37369320075', '+37369188428', '+37379339943', '+37360390985', '+37369523666', '+37379829989', '+37368100758', '+37368257711', '+37369808775', '+37368584379', '+37378231075', '+37368723026', '+37369515544', '+37378684396', '+37368616800', '+37369500120', '+37360558887', '+37379441163', '+37324858048', '+37368859579', '+37369842492', '+37369154518', '+37379707970', '+37368739622', '+37379242095', '+37368250888', '+37322871301', '+37369902593', '+37368544468', '+37368819981', '+37369134193', '+37368007445', '+37379022211', '+37368709338', '+37368361032', '+37324722672', '+37368756335', '+37369241145', '+37369250511', '+37368180170', '+37379903303', '+37368066998', '+37378777745', '+37360059899', '+37378111260', '+37368366067', '+37378970790', '+37322567281', '+37368177544', '+37369281678', '+37360949898', '+37379420610', '+37369030980', '+37379025027', '+37369490002', '+37369889888', '+37368771911', '+37322420853', '+37322471216', '+37379558177', '+37369200902', '+37360291119', '+37368333830', '+37360330314', '+37368851717', '+37369105347', '+37362054535', '+37369191657', '+37369704857', '+37369119587', '+37369631450'] ['login@login.com', '--', '--', '--', '--', '--', '--', '--', '--', '--', '--', '--', '--', '--', '--', '--', '--', '--', '--', '--', '--', '--', '--', '--', '--', '--', '--', '--', '--', '--', '--', '--', '--', '--', '--', '--', '--', '--', '--', '--', '--', '--', '--', '--', '--', '--', '--', '--', '--', '--', '--', '--', '--', '--', '--', '--', '--', '--', '--', '--', '--', '--', '--', '--', '--', '--', '--', '--', '--', '--', '--', '--', '--', '--', '--', '--', '--', '--', '--', '--', '--']\n",
      "['+37322581150', '+37369254092', '+37322202333', '+37368064928', '+37379402159', '+37368611444', '+37326921556', '+37378508326', '+37360733337', '+37369111973', '+37369320075', '+37369188428', '+37379339943', '+37360390985', '+37369523666', '+37379829989', '+37368100758', '+37368257711', '+37369808775', '+37368584379', '+37378231075', '+37368723026', '+37369515544', '+37378684396', '+37368616800', '+37369500120', '+37360558887', '+37379441163', '+37324858048', '+37368859579', '+37369842492', '+37369154518', '+37379707970', '+37368739622', '+37379242095', '+37368250888', '+37322871301', '+37369902593', '+37368544468', '+37368819981', '+37369134193', '+37368007445', '+37379022211', '+37368709338', '+37368361032', '+37324722672', '+37368756335', '+37369241145', '+37369250511', '+37368180170', '+37379903303', '+37368066998', '+37378777745', '+37360059899', '+37378111260', '+37368366067', '+37378970790', '+37322567281', '+37368177544', '+37369281678', '+37360949898', '+37379420610', '+37369030980', '+37379025027', '+37369490002', '+37369889888', '+37368771911', '+37322420853', '+37322471216', '+37379558177', '+37369200902', '+37360291119', '+37368333830', '+37360330314', '+37368851717', '+37369105347', '+37362054535', '+37369191657', '+37369704857', '+37369119587', '+37369631450'] ['login@login.com', '--', '--', '--', '--', '--', '--', '--', '--', '--', '--', '--', '--', '--', '--', '--', '--', '--', '--', '--', '--', '--', '--', '--', '--', '--', '--', '--', '--', '--', '--', '--', '--', '--', '--', '--', '--', '--', '--', '--', '--', '--', '--', '--', '--', '--', '--', '--', '--', '--', '--', '--', '--', '--', '--', '--', '--', '--', '--', '--', '--', '--', '--', '--', '--', '--', '--', '--', '--', '--', '--', '--', '--', '--', '--', '--', '--', '--', '--', '--', '--']\n"
     ]
    }
   ],
   "source": [
    "import phonenumbers\n",
    "import email.parser\n",
    "from selenium import webdriver\n",
    "import re\n",
    "import pandas as pd\n",
    "\n",
    "def extract_contacts(urls):\n",
    "    for url in urls:\n",
    "        data = pd.DataFrame()\n",
    "        driver = webdriver.Chrome()\n",
    "        driver.get(url)\n",
    "        text = driver.page_source\n",
    "        phone_numbers = []\n",
    "        emails = []\n",
    "\n",
    "        # Extract phone numbers\n",
    "        for match in phonenumbers.PhoneNumberMatcher(text, \"en\"):\n",
    "            phone_numbers.append(phonenumbers.format_number(match.number, phonenumbers.PhoneNumberFormat.E164))\n",
    "            \n",
    "        # Extract email addresses\n",
    "        parser = email.parser.Parser()\n",
    "        email_message = parser.parsestr(text)\n",
    "        for part in email_message.walk():\n",
    "            if part.get_content_type() == \"text/plain\":\n",
    "                email_addresses = re.findall(r'\\b[A-Za-z0-9._%+-]+@[A-Za-z0-9.-]+\\.[A-Za-z]{2,}\\b', part.get_payload())\n",
    "                emails.extend(email_addresses) \n",
    "        emails =list(set(emails))\n",
    "        phone_numbers=list(set(phone_numbers))\n",
    "        diff = len(emails)-len((phone_numbers))\n",
    "        print(diff)\n",
    "        for i in range(abs(diff)):\n",
    "            if diff < 0:\n",
    "                emails.append('--')\n",
    "                print(\"appended\")\n",
    "            elif diff>0 :\n",
    "                phone_numbers.append('--')\n",
    "            else:\n",
    "                pass\n",
    "        print(phone_numbers,emails)\n",
    "        \n",
    "        data['email']=emails\n",
    "        data['phone_numbers']=phone_numbers\n",
    "        print(phone_numbers,emails)\n",
    "        name = url.replace('/','_')\n",
    "        data.to_excel(f'/home/kali/Desktop/extension/{name}.xlsx',index=False)\n",
    "        driver.close()\n",
    "extract_contacts(['https://md.kompass.com/y/exporter/s/agricultura-alimentare/01/'])\n"
   ]
  },
  {
   "attachments": {},
   "cell_type": "markdown",
   "metadata": {},
   "source": [
    "\n",
    "\n",
    "\n"
   ]
  },
  {
   "cell_type": "code",
   "execution_count": 9,
   "metadata": {},
   "outputs": [
    {
     "ename": "NameError",
     "evalue": "name 'phone_numbers' is not defined",
     "output_type": "error",
     "traceback": [
      "\u001b[0;31m---------------------------------------------------------------------------\u001b[0m",
      "\u001b[0;31mNameError\u001b[0m                                 Traceback (most recent call last)",
      "Cell \u001b[0;32mIn[9], line 1\u001b[0m\n\u001b[0;32m----> 1\u001b[0m phone_numbers\n",
      "\u001b[0;31mNameError\u001b[0m: name 'phone_numbers' is not defined"
     ]
    }
   ],
   "source": [
    "phone_numbers"
   ]
  },
  {
   "cell_type": "code",
   "execution_count": 158,
   "metadata": {},
   "outputs": [
    {
     "data": {
      "text/plain": [
       "6"
      ]
     },
     "execution_count": 158,
     "metadata": {},
     "output_type": "execute_result"
    }
   ],
   "source": [
    "len(data)"
   ]
  }
 ],
 "metadata": {
  "kernelspec": {
   "display_name": "Python 3",
   "language": "python",
   "name": "python3"
  },
  "language_info": {
   "codemirror_mode": {
    "name": "ipython",
    "version": 3
   },
   "file_extension": ".py",
   "mimetype": "text/x-python",
   "name": "python",
   "nbconvert_exporter": "python",
   "pygments_lexer": "ipython3",
   "version": "3.10.6"
  },
  "orig_nbformat": 4
 },
 "nbformat": 4,
 "nbformat_minor": 2
}
